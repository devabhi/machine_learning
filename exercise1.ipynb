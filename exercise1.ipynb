{
  "nbformat": 4,
  "nbformat_minor": 0,
  "metadata": {
    "colab": {
      "name": "exercise1.ipynb",
      "provenance": []
    },
    "kernelspec": {
      "name": "python3",
      "display_name": "Python 3"
    }
  },
  "cells": [
    {
      "cell_type": "code",
      "metadata": {
        "id": "6miEgYeogh9_",
        "colab_type": "code",
        "colab": {}
      },
      "source": [
        ""
      ],
      "execution_count": null,
      "outputs": []
    },
    {
      "cell_type": "markdown",
      "metadata": {
        "id": "D5rexwMJhihp",
        "colab_type": "text"
      },
      "source": [
        "1.\tPeter is driving a car at a speed of 25 kilometers per hour. Calculate the distance covered by him in 4 hours"
      ]
    },
    {
      "cell_type": "code",
      "metadata": {
        "id": "j3uGFT19hlBH",
        "colab_type": "code",
        "colab": {
          "base_uri": "https://localhost:8080/",
          "height": 34
        },
        "outputId": "c189ebd8-792c-4cf8-c4d5-c2272d5605e5"
      },
      "source": [
        "speed = 25\n",
        "time = 4\n",
        "distance = speed*time\n",
        "print(distance)"
      ],
      "execution_count": 1,
      "outputs": [
        {
          "output_type": "stream",
          "text": [
            "100\n"
          ],
          "name": "stdout"
        }
      ]
    },
    {
      "cell_type": "markdown",
      "metadata": {
        "id": "GIQ0qn_QiEQH",
        "colab_type": "text"
      },
      "source": [
        "2.\tThe output of the operation print(5/2) in Python 3 will be"
      ]
    },
    {
      "cell_type": "code",
      "metadata": {
        "id": "Sf8nfcVliFS3",
        "colab_type": "code",
        "colab": {
          "base_uri": "https://localhost:8080/",
          "height": 34
        },
        "outputId": "444330b1-6729-42d5-8a78-7b083e370f76"
      },
      "source": [
        "print(5/2)"
      ],
      "execution_count": 2,
      "outputs": [
        {
          "output_type": "stream",
          "text": [
            "2.5\n"
          ],
          "name": "stdout"
        }
      ]
    },
    {
      "cell_type": "code",
      "metadata": {
        "id": "BKxqNshaiKG-",
        "colab_type": "code",
        "colab": {
          "base_uri": "https://localhost:8080/",
          "height": 34
        },
        "outputId": "41855e32-5819-4424-a4c0-e91454bd2874"
      },
      "source": [
        "print(type(distance))"
      ],
      "execution_count": 3,
      "outputs": [
        {
          "output_type": "stream",
          "text": [
            "<class 'int'>\n"
          ],
          "name": "stdout"
        }
      ]
    },
    {
      "cell_type": "code",
      "metadata": {
        "id": "ziW8Ji6SiS1O",
        "colab_type": "code",
        "colab": {
          "base_uri": "https://localhost:8080/",
          "height": 34
        },
        "outputId": "0c738a9a-712f-402a-c3aa-2e479e597b02"
      },
      "source": [
        "a = 5/2\n",
        "print(type(a))"
      ],
      "execution_count": 4,
      "outputs": [
        {
          "output_type": "stream",
          "text": [
            "<class 'float'>\n"
          ],
          "name": "stdout"
        }
      ]
    },
    {
      "cell_type": "markdown",
      "metadata": {
        "id": "BVwzJoAOicDu",
        "colab_type": "text"
      },
      "source": [
        "3.\tSam deposited $5, 000 in a bank having 10% annual simple interest rate. How much interest will Sam earn in 4 years?"
      ]
    },
    {
      "cell_type": "code",
      "metadata": {
        "id": "_R5nJuxEidYv",
        "colab_type": "code",
        "colab": {
          "base_uri": "https://localhost:8080/",
          "height": 34
        },
        "outputId": "fd1a81f3-2229-49dd-a56e-e9758e66ab95"
      },
      "source": [
        "principle = 5000\n",
        "interest_rate = 10\n",
        "time = 4\n",
        "interest = (principle*interest_rate*time)/100\n",
        "print(\"The interest is :\" +  str(interest))\n"
      ],
      "execution_count": 19,
      "outputs": [
        {
          "output_type": "stream",
          "text": [
            "The interest is :2000.0\n"
          ],
          "name": "stdout"
        }
      ]
    },
    {
      "cell_type": "code",
      "metadata": {
        "id": "8AiH38OMmLwY",
        "colab_type": "code",
        "colab": {}
      },
      "source": [
        ""
      ],
      "execution_count": null,
      "outputs": []
    },
    {
      "cell_type": "markdown",
      "metadata": {
        "id": "owVgPVyCjWdP",
        "colab_type": "text"
      },
      "source": [
        "4.\tCalculate area of a square having one side as 4 cm"
      ]
    },
    {
      "cell_type": "code",
      "metadata": {
        "id": "jziurDI5jiAf",
        "colab_type": "code",
        "colab": {
          "base_uri": "https://localhost:8080/",
          "height": 34
        },
        "outputId": "5e9b1287-e82c-4f9e-a92e-f2d1922f9281"
      },
      "source": [
        "side = 4\n",
        "area = side**2\n",
        "print(area)"
      ],
      "execution_count": 8,
      "outputs": [
        {
          "output_type": "stream",
          "text": [
            "16\n"
          ],
          "name": "stdout"
        }
      ]
    },
    {
      "cell_type": "code",
      "metadata": {
        "id": "CHpihzgXkD9A",
        "colab_type": "code",
        "colab": {}
      },
      "source": [
        "5.\tAccording to the rules of operator precedence, the output of the code print(1 + 2 ** 3 // 4 * 5) will be"
      ],
      "execution_count": null,
      "outputs": []
    },
    {
      "cell_type": "code",
      "metadata": {
        "id": "9Gbm_negkFI_",
        "colab_type": "code",
        "colab": {
          "base_uri": "https://localhost:8080/",
          "height": 34
        },
        "outputId": "a9c741e4-537b-4b7a-98b5-33f73613c9ad"
      },
      "source": [
        "print(1 + 2 ** 3 // 4 * 5)"
      ],
      "execution_count": 9,
      "outputs": [
        {
          "output_type": "stream",
          "text": [
            "11\n"
          ],
          "name": "stdout"
        }
      ]
    },
    {
      "cell_type": "code",
      "metadata": {
        "id": "qxz-9pjXkNBg",
        "colab_type": "code",
        "colab": {
          "base_uri": "https://localhost:8080/",
          "height": 34
        },
        "outputId": "4422a040-9f8d-4425-b1c3-8e3dfa2e80ca"
      },
      "source": [
        "2//3"
      ],
      "execution_count": 12,
      "outputs": [
        {
          "output_type": "execute_result",
          "data": {
            "text/plain": [
              "0"
            ]
          },
          "metadata": {
            "tags": []
          },
          "execution_count": 12
        }
      ]
    },
    {
      "cell_type": "markdown",
      "metadata": {
        "id": "LbgqResmkgK_",
        "colab_type": "text"
      },
      "source": [
        "9.\tCreate a new string, gender, with the value \"male\" Create a new boolean, is_obese, with the value False"
      ]
    },
    {
      "cell_type": "code",
      "metadata": {
        "id": "1GkviMqOkxNw",
        "colab_type": "code",
        "colab": {
          "base_uri": "https://localhost:8080/",
          "height": 34
        },
        "outputId": "7d0d7dab-d67f-473c-bf0f-8c8e1e152465"
      },
      "source": [
        "gender = \"male\"\n",
        "is_obese = False\n",
        "print(is_obese)"
      ],
      "execution_count": 15,
      "outputs": [
        {
          "output_type": "stream",
          "text": [
            "False\n"
          ],
          "name": "stdout"
        }
      ]
    },
    {
      "cell_type": "markdown",
      "metadata": {
        "id": "udsdLYRrlIom",
        "colab_type": "text"
      },
      "source": [
        "10.\tWhen we run the code print(\"game\" + 1) the output will be"
      ]
    },
    {
      "cell_type": "code",
      "metadata": {
        "id": "zOagcD20lJpH",
        "colab_type": "code",
        "colab": {
          "base_uri": "https://localhost:8080/",
          "height": 163
        },
        "outputId": "deb04b3e-9089-4970-825b-fb625b2ce151"
      },
      "source": [
        "print(\"game\" + 1)"
      ],
      "execution_count": 16,
      "outputs": [
        {
          "output_type": "error",
          "ename": "TypeError",
          "evalue": "ignored",
          "traceback": [
            "\u001b[0;31m---------------------------------------------------------------------------\u001b[0m",
            "\u001b[0;31mTypeError\u001b[0m                                 Traceback (most recent call last)",
            "\u001b[0;32m<ipython-input-16-203293212f57>\u001b[0m in \u001b[0;36m<module>\u001b[0;34m()\u001b[0m\n\u001b[0;32m----> 1\u001b[0;31m \u001b[0mprint\u001b[0m\u001b[0;34m(\u001b[0m\u001b[0;34m\"game\"\u001b[0m \u001b[0;34m+\u001b[0m \u001b[0;36m1\u001b[0m\u001b[0;34m)\u001b[0m\u001b[0;34m\u001b[0m\u001b[0;34m\u001b[0m\u001b[0m\n\u001b[0m",
            "\u001b[0;31mTypeError\u001b[0m: must be str, not int"
          ]
        }
      ]
    },
    {
      "cell_type": "code",
      "metadata": {
        "id": "xXFLXvFKlWi5",
        "colab_type": "code",
        "colab": {
          "base_uri": "https://localhost:8080/",
          "height": 34
        },
        "outputId": "8bc7e0eb-f2a5-4462-a5ca-60a80c0ac56d"
      },
      "source": [
        "print(\"game\"+ str(1))"
      ],
      "execution_count": 17,
      "outputs": [
        {
          "output_type": "stream",
          "text": [
            "game1\n"
          ],
          "name": "stdout"
        }
      ]
    },
    {
      "cell_type": "code",
      "metadata": {
        "id": "Jlo26shwmNtY",
        "colab_type": "code",
        "colab": {
          "base_uri": "https://localhost:8080/",
          "height": 34
        },
        "outputId": "13e34b07-c1ce-418d-97da-a0d10dec4136"
      },
      "source": [
        "my_str = \"helloworld\"\n",
        "min_str = max(my_str)\n",
        "print(min_str)"
      ],
      "execution_count": 22,
      "outputs": [
        {
          "output_type": "stream",
          "text": [
            "w\n"
          ],
          "name": "stdout"
        }
      ]
    },
    {
      "cell_type": "code",
      "metadata": {
        "id": "JG4PP-0em0v5",
        "colab_type": "code",
        "colab": {
          "base_uri": "https://localhost:8080/",
          "height": 34
        },
        "outputId": "e3f53d31-3310-43cf-a63e-ac8dd80b8545"
      },
      "source": [
        "sl_str = my_str[-1]\n",
        "print(sl_str)"
      ],
      "execution_count": 27,
      "outputs": [
        {
          "output_type": "stream",
          "text": [
            "d\n"
          ],
          "name": "stdout"
        }
      ]
    },
    {
      "cell_type": "markdown",
      "metadata": {
        "id": "SyFBL14FnlpP",
        "colab_type": "text"
      },
      "source": [
        "13.\tCreate a function pay_calculator which will calculate the payment to be made to an employee\n",
        "The function will take 2 arguments; hours, and rate, in that order\n",
        "If the hours are less than or equal to 40, then the payment will be a product of the hours and rate\n",
        "If the hours are greater than 40, then till the 40th hour the payment will be calculate as a product of the hours and rate variables. Beyond the 40th hour, the rate will be 1.5 times that of the original rate variable\n",
        "The function will finally computer the total pay, save it in a variable named total_pay and will return the same\n",
        "Finally, test the function with the following values: hours = 45, and rate = 10\n",
        "The output for the above values should be 475.0\n"
      ]
    },
    {
      "cell_type": "code",
      "metadata": {
        "id": "HRsnxYCCnqp4",
        "colab_type": "code",
        "colab": {
          "base_uri": "https://localhost:8080/",
          "height": 34
        },
        "outputId": "68acac60-c464-4b6a-8d35-59fbf8e576d3"
      },
      "source": [
        "\n",
        "def insentive_cal(total_pay):\n",
        "  insentive = (total_pay*6)/100\n",
        "  return insentive\n",
        "\n",
        "def pay_calculator1(hours, rate):\n",
        "  total_pay = hours*rate\n",
        "  if(total_pay>7000):\n",
        "    insentive = insentive_cal(total_pay)\n",
        "    total_pay = total_pay + insentive\n",
        "  return total_pay\n",
        "\n",
        "pay = pay_calculator1(40,200)\n",
        "print(pay)\n",
        "\n",
        "\n",
        "\n"
      ],
      "execution_count": 36,
      "outputs": [
        {
          "output_type": "stream",
          "text": [
            "8480.0\n"
          ],
          "name": "stdout"
        }
      ]
    },
    {
      "cell_type": "markdown",
      "metadata": {
        "id": "4MWgckNTlqAw",
        "colab_type": "text"
      },
      "source": [
        ""
      ]
    }
  ]
}